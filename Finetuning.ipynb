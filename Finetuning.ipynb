{
 "cells": [
  {
   "cell_type": "code",
   "execution_count": 1,
   "id": "116b1ebd",
   "metadata": {},
   "outputs": [],
   "source": [
    "import torch\n",
    "import torch.nn as nn\n",
    "import torch.optim as optim\n",
    "from torch.optim.lr_scheduler import StepLR\n",
    "from torchvision import models, transforms\n",
    "from torchvision.datasets import CIFAR10\n",
    "from torch.utils.data import DataLoader\n",
    "import matplotlib.pyplot as plt\n",
    "from sklearn.metrics import classification_report"
   ]
  },
  {
   "cell_type": "code",
   "execution_count": 8,
   "id": "6de47668",
   "metadata": {},
   "outputs": [],
   "source": [
    "# Hyperparameters\n",
    "BATCH_SIZE = 32\n",
    "EPOCHS = 5\n",
    "NUM_CLASSES = 10\n",
    "DEVICE = torch.device(\"cuda\" if torch.cuda.is_available() else \"cpu\")"
   ]
  },
  {
   "cell_type": "code",
   "execution_count": 9,
   "id": "6f6b2557",
   "metadata": {},
   "outputs": [],
   "source": [
    "# Data Preprocessing\n",
    "transform = transforms.Compose([\n",
    "    transforms.ToTensor(),\n",
    "    transforms.Normalize((0.5, 0.5, 0.5), (0.5, 0.5, 0.5))\n",
    "])"
   ]
  },
  {
   "cell_type": "code",
   "execution_count": 10,
   "id": "776b8416",
   "metadata": {},
   "outputs": [
    {
     "name": "stdout",
     "output_type": "stream",
     "text": [
      "Files already downloaded and verified\n",
      "Files already downloaded and verified\n"
     ]
    }
   ],
   "source": [
    "# Load CIFAR10 dataset\n",
    "train_dataset = CIFAR10(root='/Users/nikita/Desktop/CIFAR10-main', train=True, download=True, transform=transform)\n",
    "test_dataset = CIFAR10(root='/Users/nikita/Desktop/CIFAR10-main', train=False, download=True, transform=transform)"
   ]
  },
  {
   "cell_type": "code",
   "execution_count": 11,
   "id": "792fb3e5",
   "metadata": {},
   "outputs": [],
   "source": [
    "train_loader = DataLoader(train_dataset, batch_size=BATCH_SIZE, shuffle=True)\n",
    "test_loader = DataLoader(test_dataset, batch_size=BATCH_SIZE, shuffle=False)\n"
   ]
  },
  {
   "cell_type": "code",
   "execution_count": 12,
   "id": "3608901d",
   "metadata": {},
   "outputs": [],
   "source": [
    "# Load pre-trained ResNet18 and modify the final layer\n",
    "classifier = models.resnet18(pretrained=True)\n",
    "classifier.fc = nn.Linear(classifier.fc.in_features, NUM_CLASSES)\n",
    "classifier = classifier.to(DEVICE)\n",
    "\n",
    "criterion = nn.CrossEntropyLoss()\n",
    "optimizer = optim.Adam(classifier.parameters(), lr=1e-3)\n",
    "scheduler = StepLR(optimizer, step_size=10, gamma=0.1)\n"
   ]
  },
  {
   "cell_type": "code",
   "execution_count": 13,
   "id": "c7c3e6a8",
   "metadata": {},
   "outputs": [
    {
     "name": "stdout",
     "output_type": "stream",
     "text": [
      "Epoch: 1, Loss: 1.0890\n",
      "Epoch: 2, Loss: 0.7555\n",
      "Epoch: 3, Loss: 0.6152\n",
      "Epoch: 4, Loss: 0.5013\n",
      "Epoch: 5, Loss: 0.4135\n"
     ]
    }
   ],
   "source": [
    "# Training loop\n",
    "losses = []\n",
    "\n",
    "for epoch in range(EPOCHS):\n",
    "    classifier.train()\n",
    "    running_loss = 0.0\n",
    "    for images_batch, labels_batch in train_loader:\n",
    "        images_batch, labels_batch = images_batch.to(DEVICE), labels_batch.to(DEVICE)\n",
    "        optimizer.zero_grad()\n",
    "        output = classifier(images_batch)\n",
    "        loss = criterion(output, labels_batch)\n",
    "        loss.backward()\n",
    "        optimizer.step()\n",
    "        running_loss += loss.item() * images_batch.size(0)\n",
    "    scheduler.step()\n",
    "    epoch_loss = running_loss / len(train_loader.dataset)\n",
    "    print(f\"Epoch: {epoch+1}, Loss: {epoch_loss:.4f}\")\n",
    "    losses.append(epoch_loss)"
   ]
  },
  {
   "cell_type": "code",
   "execution_count": 15,
   "id": "3c4a2860",
   "metadata": {},
   "outputs": [],
   "source": [
    " if (epoch + 1) % 5 == 0:\n",
    "        torch.save(classifier.state_dict(), f\"cifar10_model_epoch_{epoch+1}.pth\")"
   ]
  },
  {
   "cell_type": "code",
   "execution_count": 16,
   "id": "95bc2f95",
   "metadata": {},
   "outputs": [
    {
     "data": {
      "image/png": "[encoded data removed]",
      "text/plain": [
       "<Figure size 640x480 with 1 Axes>"
      ]
     },
     "metadata": {},
     "output_type": "display_data"
    }
   ],
   "source": [
    "# Plot training loss\n",
    "plt.plot(losses)\n",
    "plt.xlabel('Epoch')\n",
    "plt.ylabel('Loss')\n",
    "plt.title('Training Loss')\n",
    "plt.show()"
   ]
  },
  {
   "cell_type": "code",
   "execution_count": 19,
   "id": "70a0add7",
   "metadata": {},
   "outputs": [
    {
     "name": "stdout",
     "output_type": "stream",
     "text": [
      "Accuracy on test set: 79.64%\n"
     ]
    }
   ],
   "source": [
    "# Evaluation\n",
    "classifier.eval()\n",
    "correct = 0\n",
    "total = 0\n",
    "with torch.no_grad():\n",
    "    for images, labels in test_loader:\n",
    "        images, labels = images.to(DEVICE), labels.to(DEVICE)\n",
    "        outputs = classifier(images)\n",
    "        _, predicted = torch.max(outputs.data, 1)\n",
    "        total += labels.size(0)\n",
    "        correct += (predicted == labels).sum().item()\n",
    "print(f\"Accuracy on test set: {(100 * correct / total):.2f}%\")"
   ]
  },
  {
   "cell_type": "code",
   "execution_count": 21,
   "id": "7874f6e6",
   "metadata": {},
   "outputs": [
    {
     "name": "stdout",
     "output_type": "stream",
     "text": [
      "              precision    recall  f1-score   support\n",
      "\n",
      "    airplane       0.83      0.81      0.82      1000\n",
      "  automobile       0.85      0.91      0.88      1000\n",
      "        bird       0.77      0.74      0.76      1000\n",
      "         cat       0.57      0.70      0.63      1000\n",
      "        deer       0.79      0.78      0.78      1000\n",
      "         dog       0.73      0.63      0.68      1000\n",
      "        frog       0.89      0.82      0.85      1000\n",
      "       horse       0.83      0.85      0.84      1000\n",
      "        ship       0.87      0.89      0.88      1000\n",
      "       truck       0.89      0.82      0.85      1000\n",
      "\n",
      "    accuracy                           0.80     10000\n",
      "   macro avg       0.80      0.80      0.80     10000\n",
      "weighted avg       0.80      0.80      0.80     10000\n",
      "\n"
     ]
    }
   ],
   "source": [
    "# Define the list of class names manually\n",
    "class_names = ['airplane', 'automobile', 'bird', 'cat', 'deer', 'dog', 'frog', 'horse', 'ship', 'truck']\n",
    "\n",
    "# Print classification report with manually defined class names\n",
    "print(classification_report(all_labels, all_preds, target_names=class_names))"
   ]
  }
 ],
 "metadata": {
  "kernelspec": {
   "display_name": "Python 3 (ipykernel)",
   "language": "python",
   "name": "python3"
  },
  "language_info": {
   "codemirror_mode": {
    "name": "ipython",
    "version": 3
   },
   "file_extension": ".py",
   "mimetype": "text/x-python",
   "name": "python",
   "nbconvert_exporter": "python",
   "pygments_lexer": "ipython3",
   "version": "3.9.13"
  }
 },
 "nbformat": 4,
 "nbformat_minor": 5
}
